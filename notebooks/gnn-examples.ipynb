{
 "cells": [
  {
   "cell_type": "code",
   "execution_count": null,
   "id": "4a776180-0d3b-4375-8b46-8a91bc81c8a4",
   "metadata": {},
   "outputs": [],
   "source": [
    "import torch\n",
    "import  torch.nn.functional as F\n",
    "\n",
    "from graph_conv_networks.gcn_networks import GCN\n",
    "from graph_attention_networks.gat_networks import GAT, GATv2\n",
    "from graph_u_networks.graph_u_networks import GraphUNet\n",
    "\n",
    "from graph_network_wrappers.graph_network_wrappers import GraphNetworkWrapper"
   ]
  },
  {
   "cell_type": "markdown",
   "id": "ed7b0090-2402-4cfe-8db8-c7c78ec8f7c1",
   "metadata": {},
   "source": [
    "## Graph Convolutional Networks"
   ]
  },
  {
   "cell_type": "code",
   "execution_count": null,
   "id": "3d26342c-ac4d-4973-9b20-478536902203",
   "metadata": {},
   "outputs": [],
   "source": [
    "dataset_name = \"Planetoid\"\n",
    "model_name = \"GCN\"\n",
    "gcn_wrapper = GraphNetworkWrapper(model_name=model_name, dataset_name=dataset_name)"
   ]
  },
  {
   "cell_type": "code",
   "execution_count": null,
   "id": "883e374b-37bc-443e-9114-00f1d364b925",
   "metadata": {},
   "outputs": [],
   "source": [
    "gcn_wrapper.train()\n",
    "accuracy = gcn_wrapper.evaluate()\n",
    "print(f\"GCN accuracy: {accuracy}\")"
   ]
  },
  {
   "cell_type": "markdown",
   "id": "e600979b-3e5c-4e42-8f5f-ba9f163f6622",
   "metadata": {},
   "source": [
    "## Graph Attention Networks"
   ]
  },
  {
   "cell_type": "code",
   "execution_count": null,
   "id": "a64f5fca-ea65-4c29-93c0-6d861fa51109",
   "metadata": {},
   "outputs": [],
   "source": [
    "dataset_name = \"Planetoid\"\n",
    "model_name = \"GAT\"\n",
    "gat_wrapper = GraphNetworkWrapper(model_name=model_name, dataset_name=dataset_name)"
   ]
  },
  {
   "cell_type": "code",
   "execution_count": null,
   "id": "831f16df-03e7-4992-9aa1-36d79ddcf55b",
   "metadata": {},
   "outputs": [],
   "source": [
    "gat_wrapper.train()\n",
    "accuracy = gat_wrapper.evaluate()\n",
    "print(f\"GAT accuracy: {accuracy}\")"
   ]
  },
  {
   "cell_type": "code",
   "execution_count": null,
   "id": "89e09216-de36-4174-b285-163ec716bd31",
   "metadata": {},
   "outputs": [],
   "source": [
    "dataset_name = \"Planetoid\"\n",
    "model_name = \"GATv2\"\n",
    "gat_v2_wrapper = GraphNetworkWrapper(model_name=model_name, dataset_name=dataset_name)"
   ]
  },
  {
   "cell_type": "code",
   "execution_count": null,
   "id": "eab0e174-7350-48ab-8024-9b23fafc2f8e",
   "metadata": {},
   "outputs": [],
   "source": [
    "gat_v2_wrapper.train()\n",
    "accuracy = gat_wrapper.evaluate()\n",
    "print(f\"GAT accuracy: {accuracy}\")"
   ]
  },
  {
   "cell_type": "markdown",
   "id": "6431ddff-7704-4b87-adee-5410efb856be",
   "metadata": {},
   "source": [
    "## Graph U-Networks"
   ]
  },
  {
   "cell_type": "code",
   "execution_count": null,
   "id": "d18ee834-fe2c-4316-b250-cf01895cea9b",
   "metadata": {},
   "outputs": [],
   "source": [
    "dataset_name = \"Planetoid\"\n",
    "model_name = \"GraphUNet\"\n",
    "graph_unet_wrapper = GraphNetworkWrapper(model_name=model_name, dataset_name=dataset_name)"
   ]
  },
  {
   "cell_type": "code",
   "execution_count": null,
   "id": "e7b8c36f-6cc5-44f7-8a3c-ca9367353897",
   "metadata": {},
   "outputs": [],
   "source": [
    "graph_unet_wrapper.train()\n",
    "accuracy = gat_wrapper.evaluate()\n",
    "print(f\"GAT accuracy: {accuracy}\")"
   ]
  }
 ],
 "metadata": {
  "kernelspec": {
   "display_name": "Python 3 (ipykernel)",
   "language": "python",
   "name": "python3"
  },
  "language_info": {
   "codemirror_mode": {
    "name": "ipython",
    "version": 3
   },
   "file_extension": ".py",
   "mimetype": "text/x-python",
   "name": "python",
   "nbconvert_exporter": "python",
   "pygments_lexer": "ipython3",
   "version": "3.8.10"
  }
 },
 "nbformat": 4,
 "nbformat_minor": 5
}
