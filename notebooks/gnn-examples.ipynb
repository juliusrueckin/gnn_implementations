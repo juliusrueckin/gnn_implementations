{
 "cells": [
  {
   "cell_type": "code",
   "execution_count": null,
   "id": "4a776180-0d3b-4375-8b46-8a91bc81c8a4",
   "metadata": {},
   "outputs": [],
   "source": [
    "import torch\n",
    "import torch.nn.functional as F\n",
    "\n",
    "from torch_geometric.nn import GCNConv, GATConv, GATv2Conv, TopKPooling\n",
    "from torch_geometric.data import Data\n",
    "from torch_geometric.datasets import Planetoid, TUDataset\n",
    "from torch_geometric.loader import DataLoader\n",
    "from torch_scatter import scatter_mean"
   ]
  },
  {
   "cell_type": "code",
   "execution_count": null,
   "id": "99c60021-b3d2-4c9e-a2b2-a68282657034",
   "metadata": {},
   "outputs": [],
   "source": [
    "edge_index = torch.tensor([[0, 1, 1, 2], [1, 0, 2, 1]], dtype=torch.long)\n",
    "x = torch.tensor([[-1], [0], [1]], dtype=torch.float)"
   ]
  },
  {
   "cell_type": "code",
   "execution_count": null,
   "id": "78f2acb2-3a30-404a-8183-7caadcafcd4d",
   "metadata": {},
   "outputs": [],
   "source": [
    "data = Data(x=x, edge_index=edge_index)"
   ]
  },
  {
   "cell_type": "code",
   "execution_count": null,
   "id": "c0dfaaa9-53d7-4ac8-a58b-f2320a050642",
   "metadata": {},
   "outputs": [],
   "source": [
    "data"
   ]
  },
  {
   "cell_type": "code",
   "execution_count": null,
   "id": "d681e20c-8f33-473b-8237-8a764c75fd39",
   "metadata": {},
   "outputs": [],
   "source": [
    "data.keys"
   ]
  },
  {
   "cell_type": "code",
   "execution_count": null,
   "id": "115d58de-b65d-434a-85c2-e616e5199a66",
   "metadata": {},
   "outputs": [],
   "source": [
    "data[\"x\"]"
   ]
  },
  {
   "cell_type": "code",
   "execution_count": null,
   "id": "097bead5-78eb-40af-9219-0ea7a1def485",
   "metadata": {},
   "outputs": [],
   "source": [
    "data.num_nodes"
   ]
  },
  {
   "cell_type": "code",
   "execution_count": null,
   "id": "08ad2794-4e1e-4760-83d1-33c7d9937d71",
   "metadata": {},
   "outputs": [],
   "source": [
    "data.num_edges"
   ]
  },
  {
   "cell_type": "code",
   "execution_count": null,
   "id": "88ee7891-cf85-4fe2-8c6c-282bbe2148a2",
   "metadata": {},
   "outputs": [],
   "source": [
    "data.num_node_features"
   ]
  },
  {
   "cell_type": "code",
   "execution_count": null,
   "id": "f71c008d-2df8-4f64-a4a8-6e6eebff6b60",
   "metadata": {},
   "outputs": [],
   "source": [
    "data.has_isolated_nodes()"
   ]
  },
  {
   "cell_type": "code",
   "execution_count": null,
   "id": "e0ae0c22-f4a5-4af4-8171-31e26f3f0cbc",
   "metadata": {},
   "outputs": [],
   "source": [
    "data.has_self_loops()"
   ]
  },
  {
   "cell_type": "code",
   "execution_count": null,
   "id": "e90389a7-c408-4a28-820d-faeec7f15263",
   "metadata": {},
   "outputs": [],
   "source": [
    "data.is_directed()"
   ]
  },
  {
   "cell_type": "code",
   "execution_count": null,
   "id": "b3a20fd2-eb7c-4863-936b-902994ab9a4b",
   "metadata": {},
   "outputs": [],
   "source": [
    "dataset = TUDataset(root=\"datasets/ENZYMES\", name=\"ENZYMES\", use_node_attr=True)"
   ]
  },
  {
   "cell_type": "code",
   "execution_count": null,
   "id": "dcf6ff12-854d-4c04-8e8e-ba140cf0fddf",
   "metadata": {},
   "outputs": [],
   "source": [
    "dataset"
   ]
  },
  {
   "cell_type": "code",
   "execution_count": null,
   "id": "55dbc78c-7ee9-4535-b10d-92339aa29fb4",
   "metadata": {},
   "outputs": [],
   "source": [
    "dataset.name"
   ]
  },
  {
   "cell_type": "code",
   "execution_count": null,
   "id": "130521b7-15a0-412c-a997-992c9a9b1778",
   "metadata": {},
   "outputs": [],
   "source": [
    "len(dataset)"
   ]
  },
  {
   "cell_type": "code",
   "execution_count": null,
   "id": "f31028c2-b23d-4891-bfd2-481961fd4546",
   "metadata": {},
   "outputs": [],
   "source": [
    "dataset.num_classes"
   ]
  },
  {
   "cell_type": "code",
   "execution_count": null,
   "id": "66cf5f33-2d3a-41a9-abfa-513857a51f33",
   "metadata": {},
   "outputs": [],
   "source": [
    "dataset.num_node_features"
   ]
  },
  {
   "cell_type": "code",
   "execution_count": null,
   "id": "ff3e3ff7-c543-41ed-a858-34e1acfbd427",
   "metadata": {},
   "outputs": [],
   "source": [
    "dataset[0].is_undirected()"
   ]
  },
  {
   "cell_type": "code",
   "execution_count": null,
   "id": "4d849a29-01b4-4c51-8ea8-b2407037683e",
   "metadata": {},
   "outputs": [],
   "source": [
    "dataset = dataset.shuffle()"
   ]
  },
  {
   "cell_type": "code",
   "execution_count": null,
   "id": "61256b09-9b69-4576-9918-0ead4b4dbb92",
   "metadata": {},
   "outputs": [],
   "source": [
    "train_dataset = dataset[:540]\n",
    "test_dataset = dataset[540:]"
   ]
  },
  {
   "cell_type": "code",
   "execution_count": null,
   "id": "e8326b0e-7451-426e-9abc-ac96ee443966",
   "metadata": {},
   "outputs": [],
   "source": [
    "loader = DataLoader(dataset, batch_size=32, shuffle=True)"
   ]
  },
  {
   "cell_type": "code",
   "execution_count": null,
   "id": "c021f56b-5cfe-4eb5-a522-c8fe233769a7",
   "metadata": {},
   "outputs": [],
   "source": [
    "for batch in loader:\n",
    "    print(batch.num_graphs)"
   ]
  },
  {
   "cell_type": "code",
   "execution_count": null,
   "id": "ad2bd578-6f6e-4afe-bed5-2de344389895",
   "metadata": {},
   "outputs": [],
   "source": [
    "for data in loader:\n",
    "    x = scatter_mean(data.x, data.batch, dim=0)\n",
    "    print(x.size())"
   ]
  },
  {
   "cell_type": "code",
   "execution_count": null,
   "id": "3d26342c-ac4d-4973-9b20-478536902203",
   "metadata": {},
   "outputs": [],
   "source": [
    "dataset = Planetoid(root=\"datasets/Cora\", name=\"Cora\")"
   ]
  },
  {
   "cell_type": "code",
   "execution_count": null,
   "id": "f23facc9-8005-47dc-b2e9-265810ec5420",
   "metadata": {},
   "outputs": [],
   "source": [
    "class GCN(torch.nn.Module):\n",
    "    def __init__(self):\n",
    "        super().__init__()\n",
    "        self.conv1 = GCNConv(dataset.num_node_features, 16)\n",
    "        self.conv2 = GCNConv(16, dataset.num_classes)\n",
    "\n",
    "    def forward(self, data):\n",
    "        x, edge_index = data.x, data.edge_index\n",
    "\n",
    "        x = F.relu(self.conv1(x, edge_index))\n",
    "        x = F.dropout(x, training=self.training, p=0.1)\n",
    "        x = self.conv2(x, edge_index)\n",
    "\n",
    "        return F.log_softmax(x, dim=1)"
   ]
  },
  {
   "cell_type": "code",
   "execution_count": null,
   "id": "883e374b-37bc-443e-9114-00f1d364b925",
   "metadata": {},
   "outputs": [],
   "source": [
    "device = torch.device(\"cuda\" if torch.cuda.is_available() else \"cpu\")\n",
    "model = GCN().to(device)\n",
    "data = dataset[0].to(device)\n",
    "optimizer = torch.optim.Adam(model.parameters(), lr=0.01, weight_decay=5e-4)\n",
    "\n",
    "model.train()\n",
    "for epoch in range(400):\n",
    "    optimizer.zero_grad()\n",
    "    out = model(data)\n",
    "    loss = F.nll_loss(out[data.train_mask], data.y[data.train_mask])\n",
    "    loss.backward()\n",
    "    optimizer.step()"
   ]
  },
  {
   "cell_type": "code",
   "execution_count": null,
   "id": "b049c42b-0a7b-4168-9ba9-f0f6881c78b7",
   "metadata": {},
   "outputs": [],
   "source": [
    "model.eval()\n",
    "pred = model(data).argmax(dim=1)\n",
    "correct = (pred[data.test_mask] == data.y[data.test_mask]).sum()\n",
    "acc = int(correct) / int(data.test_mask.sum())\n",
    "print(f\"Accuracy: {acc}\")"
   ]
  },
  {
   "cell_type": "code",
   "execution_count": null,
   "id": "e16a9607-af65-4ff6-afcf-ca53f4d64f50",
   "metadata": {},
   "outputs": [],
   "source": [
    "class GAT(torch.nn.Module):\n",
    "    def __init__(self):\n",
    "        super().__init__()\n",
    "        self.conv1 = GATConv(dataset.num_node_features, 16, heads=8, dropout=0.2, concat=True)\n",
    "        self.conv2 = GATConv(16*8, dataset.num_classes, heads=1, concat=False, dropout=0.2)\n",
    "\n",
    "    def forward(self, data):\n",
    "        x, edge_index = data.x, data.edge_index\n",
    "\n",
    "        x = F.elu(self.conv1(x, edge_index))\n",
    "        x = F.dropout(x, training=self.training, p=0.2)\n",
    "        x = self.conv2(x, edge_index)\n",
    "\n",
    "        return F.log_softmax(x, dim=1)"
   ]
  },
  {
   "cell_type": "code",
   "execution_count": null,
   "id": "d2c9031a-3ff0-4e96-9b69-7dccb3b323f5",
   "metadata": {},
   "outputs": [],
   "source": [
    "device = torch.device(\"cuda\" if torch.cuda.is_available() else \"cpu\")\n",
    "model = GAT().to(device)\n",
    "data = dataset[0].to(device)\n",
    "optimizer = torch.optim.Adam(model.parameters(), lr=0.005, weight_decay=5e-4)\n",
    "\n",
    "model.train()\n",
    "for epoch in range(1000):\n",
    "    optimizer.zero_grad()\n",
    "    out = model(data)\n",
    "    loss = F.nll_loss(out[data.train_mask], data.y[data.train_mask])\n",
    "    loss.backward()\n",
    "    optimizer.step()"
   ]
  },
  {
   "cell_type": "code",
   "execution_count": null,
   "id": "831f16df-03e7-4992-9aa1-36d79ddcf55b",
   "metadata": {},
   "outputs": [],
   "source": [
    "model.eval()\n",
    "pred = model(data).argmax(dim=1)\n",
    "correct = (pred[data.test_mask] == data.y[data.test_mask]).sum()\n",
    "acc = int(correct) / int(data.test_mask.sum())\n",
    "print(f\"Accuracy: {acc}\")"
   ]
  },
  {
   "cell_type": "code",
   "execution_count": null,
   "id": "2c332390-3f90-46ae-abb6-80752a9dc482",
   "metadata": {},
   "outputs": [],
   "source": [
    "class GATv2(torch.nn.Module):\n",
    "    def __init__(self):\n",
    "        super().__init__()\n",
    "        self.conv1 = GATv2Conv(dataset.num_node_features, 16, heads=8, dropout=0.2, concat=True)\n",
    "        self.conv2 = GATv2Conv(16*8, dataset.num_classes, heads=1, dropout=0.2, concat=False)\n",
    "\n",
    "    def forward(self, data):\n",
    "        x, edge_index = data.x, data.edge_index\n",
    "\n",
    "        x = F.elu(self.conv1(x, edge_index))\n",
    "        x = F.dropout(x, training=self.training, p=0.2)\n",
    "        x = self.conv2(x, edge_index)\n",
    "\n",
    "        return F.log_softmax(x, dim=1)"
   ]
  },
  {
   "cell_type": "code",
   "execution_count": null,
   "id": "a5974875-a23b-4663-a1c9-41d2254f2891",
   "metadata": {},
   "outputs": [],
   "source": [
    "device = torch.device(\"cuda\" if torch.cuda.is_available() else \"cpu\")\n",
    "model = GATv2().to(device)\n",
    "data = dataset[0].to(device)\n",
    "optimizer = torch.optim.Adam(model.parameters(), lr=0.005, weight_decay=5e-4)\n",
    "\n",
    "model.train()\n",
    "for epoch in range(1000):\n",
    "    optimizer.zero_grad()\n",
    "    out = model(data)\n",
    "    loss = F.nll_loss(out[data.train_mask], data.y[data.train_mask])\n",
    "    loss.backward()\n",
    "    optimizer.step()"
   ]
  },
  {
   "cell_type": "code",
   "execution_count": null,
   "id": "e7b8c36f-6cc5-44f7-8a3c-ca9367353897",
   "metadata": {},
   "outputs": [],
   "source": [
    "model.eval()\n",
    "pred = model(data).argmax(dim=1)\n",
    "correct = (pred[data.test_mask] == data.y[data.test_mask]).sum()\n",
    "acc = int(correct) / int(data.test_mask.sum())\n",
    "print(f\"Accuracy: {acc}\")"
   ]
  },
  {
   "cell_type": "code",
   "execution_count": null,
   "id": "3af8fded-34c9-48e8-9486-84a2ca1a5e1c",
   "metadata": {},
   "outputs": [],
   "source": [
    "class GraphUNet(torch.nn.Module):\n",
    "    def __init__(self):\n",
    "        super().__init__()\n",
    "\n",
    "        self.depth = 4\n",
    "        self.enc_convs = torch.nn.ModuleList()\n",
    "        self.dec_convs = torch.nn.ModuleList()\n",
    "        self.pools = torch.nn.ModuleList()\n",
    "\n",
    "        self.enc_convs.append(GCNConv(dataset.num_node_features, 16, improved=True))\n",
    "        for _ in range(self.depth):\n",
    "            self.pools.append(TopKPooling(16, 0.5))\n",
    "            self.enc_convs.append(GCNConv(16, 16, improved=True))\n",
    "\n",
    "        for _ in range(self.depth - 1):\n",
    "            self.dec_convs.append(GCNConv(16, 16, improved=True))\n",
    "        self.dec_convs.append(GCNConv(16, dataset.num_classes, improved=True))\n",
    "\n",
    "    def forward(self, data):\n",
    "        x, edge_index = data.x, data.edge_index\n",
    "\n",
    "        x = F.relu(self.enc_convs[0](x, edge_index))\n",
    "        xs = [x]\n",
    "        edge_indices = [edge_index]\n",
    "        perms = []\n",
    "\n",
    "        for i in range(1, self.depth + 1):\n",
    "            x, edge_index, _, _, perm, _ = self.pools[i - 1](x, edge_index)\n",
    "            x = F.relu(self.enc_convs[i](x, edge_index))\n",
    "            x = F.dropout(x, training=self.training, p=0.1)\n",
    "\n",
    "            perms += [perm]\n",
    "            if i < self.depth:\n",
    "                xs += [x]\n",
    "                edge_indices += [edge_index]\n",
    "\n",
    "        for i in range(self.depth):\n",
    "            j = self.depth - i - 1\n",
    "            res, edge_index, perm = xs[j], edge_indices[j], perms[j]\n",
    "\n",
    "            up = torch.zeros_like(res)\n",
    "            up[perm] = x\n",
    "            x = res + up\n",
    "\n",
    "            x = self.dec_convs[i](x, edge_index)\n",
    "            x = F.relu(x) if i < self.depth - 1 else x\n",
    "            x = F.dropout(x, training=self.training, p=0.1) if i < self.depth - 1 else x\n",
    "\n",
    "        return F.log_softmax(x, dim=1)"
   ]
  },
  {
   "cell_type": "code",
   "execution_count": null,
   "id": "9d426160-b83a-4cd3-89f0-ceac197b986d",
   "metadata": {},
   "outputs": [],
   "source": [
    "device = torch.device(\"cuda\" if torch.cuda.is_available() else \"cpu\")\n",
    "model = GraphUNet().to(device)\n",
    "data = dataset[0].to(device)\n",
    "optimizer = torch.optim.Adam(model.parameters(), lr=0.005, weight_decay=5e-4)\n",
    "\n",
    "model.train()\n",
    "for epoch in range(1000):\n",
    "    optimizer.zero_grad()\n",
    "    out = model(data)\n",
    "    loss = F.nll_loss(out[data.train_mask], data.y[data.train_mask])\n",
    "    loss.backward()\n",
    "    optimizer.step()"
   ]
  },
  {
   "cell_type": "code",
   "execution_count": null,
   "id": "ae496cd4-528f-4ead-81cc-4fcba7d5b8cf",
   "metadata": {},
   "outputs": [],
   "source": [
    "model.eval()\n",
    "pred = model(data).argmax(dim=1)\n",
    "correct = (pred[data.test_mask] == data.y[data.test_mask]).sum()\n",
    "acc = int(correct) / int(data.test_mask.sum())\n",
    "print(f\"Accuracy: {acc}\")"
   ]
  }
 ],
 "metadata": {
  "kernelspec": {
   "display_name": "Python 3 (ipykernel)",
   "language": "python",
   "name": "python3"
  },
  "language_info": {
   "codemirror_mode": {
    "name": "ipython",
    "version": 3
   },
   "file_extension": ".py",
   "mimetype": "text/x-python",
   "name": "python",
   "nbconvert_exporter": "python",
   "pygments_lexer": "ipython3",
   "version": "3.8.10"
  }
 },
 "nbformat": 4,
 "nbformat_minor": 5
}
